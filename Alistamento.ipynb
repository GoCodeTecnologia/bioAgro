{
  "nbformat": 4,
  "nbformat_minor": 0,
  "metadata": {
    "colab": {
      "provenance": [],
      "collapsed_sections": [],
      "authorship_tag": "ABX9TyMyYZ16xzr7/dNNOkHKrOFS",
      "include_colab_link": true
    },
    "kernelspec": {
      "name": "python3",
      "display_name": "Python 3"
    },
    "language_info": {
      "name": "python"
    }
  },
  "cells": [
    {
      "cell_type": "markdown",
      "metadata": {
        "id": "view-in-github",
        "colab_type": "text"
      },
      "source": [
        "<a href=\"https://colab.research.google.com/github/GoCodeTecnologia/bioAgro/blob/master/Alistamento.ipynb\" target=\"_parent\"><img src=\"https://colab.research.google.com/assets/colab-badge.svg\" alt=\"Open In Colab\"/></a>"
      ]
    },
    {
      "cell_type": "code",
      "execution_count": 4,
      "metadata": {
        "colab": {
          "base_uri": "https://localhost:8080/"
        },
        "id": "LZaDmvpiUqs7",
        "outputId": "26f09f1e-b32d-47e2-f9a0-8436279c5a24"
      },
      "outputs": [
        {
          "output_type": "stream",
          "name": "stdout",
          "text": [
            "digite o ano de nascimento: 1995\n",
            "Ja se alistou?[S/N]n\n",
            "você está 9ano(s) atrasado deve se apresentar na junta.\n",
            "seu alistamento foi em 2013\n"
          ]
        }
      ],
      "source": [
        "nasc = int(input('digite o ano de nascimento: '))\n",
        "alis = nasc + 18\n",
        "ano = 2022\n",
        "if alis == ano:\n",
        "  print('deve se alistar imediatamento.')\n",
        "elif alis < ano:\n",
        "    per = input('Ja se alistou? [S/N] :').upper()\n",
        "    if per == 'S':\n",
        "      print('tudo certo!')\n",
        "    elif per=='N':\n",
        "      pas = ano - alis\n",
        "      print('você está {} ano(s) atrasado deve se apresentar na junta.'.format(pas))\n",
        "      print('seu alistamento foi em {}'.format(alis))\n",
        "elif alis > ano:\n",
        "  fal = alis - ano\n",
        "  print('falta {} ano(s) para seu alistamento'.format(fal))\n",
        "  print('seu alistamento será em {}'.format(alis))"
      ]
    }
  ]
}